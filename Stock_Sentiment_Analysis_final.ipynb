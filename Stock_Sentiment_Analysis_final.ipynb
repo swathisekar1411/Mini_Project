{
  "cells": [
    {
      "cell_type": "code",
      "execution_count": 67,
      "metadata": {
        "id": "1vvowgFiFDSw"
      },
      "outputs": [],
      "source": [
        "\n",
        "import numpy as np\n",
        "import pandas as pd"
      ]
    },
    {
      "cell_type": "code",
      "execution_count": 70,
      "metadata": {
        "id": "osxCkBCdFUGw"
      },
      "outputs": [],
      "source": [
        "\n",
        "df = pd.read_csv('/content/data_set (1).csv', encoding = 'ISO-8859-1')"
      ]
    },
    {
      "cell_type": "markdown",
      "metadata": {
        "id": "5DAJPl26Am0B"
      },
      "source": [
        "# **Exploring the dataset**"
      ]
    },
    {
      "cell_type": "code",
      "source": [
        "df.head(3)"
      ],
      "metadata": {
        "colab": {
          "base_uri": "https://localhost:8080/",
          "height": 584
        },
        "id": "qnWhQeSwDJDv",
        "outputId": "ec4a9638-630a-487d-a258-3542876eec91"
      },
      "execution_count": 64,
      "outputs": [
        {
          "output_type": "execute_result",
          "data": {
            "text/plain": [
              "         Date  Label                                               Top1  \\\n",
              "0  2000-01-03      0  A 'hindrance to operations': extracts from the...   \n",
              "1  2000-01-04      0                                          Scorecard   \n",
              "2  2000-01-05      0                  Coventry caught on counter by Flo   \n",
              "\n",
              "                                 Top2  \\\n",
              "0                           Scorecard   \n",
              "1                 The best lake scene   \n",
              "2  United's rivals on the road to Rio   \n",
              "\n",
              "                                            Top3  \\\n",
              "0                Hughes' instant hit buoys Blues   \n",
              "1                  Leader: German sleaze inquiry   \n",
              "2  Thatcher issues defence before trial by video   \n",
              "\n",
              "                                            Top4  \\\n",
              "0       Jack gets his skates on at ice-cold Alex   \n",
              "1                                  Cheerio, boyo   \n",
              "2  Police help Smith lay down the law at Everton   \n",
              "\n",
              "                                          Top5  \\\n",
              "0       Chaos as Maracana builds up for United   \n",
              "1                     The main recommendations   \n",
              "2  Tale of Trautmann bears two more retellings   \n",
              "\n",
              "                                                Top6  \\\n",
              "0  Depleted Leicester prevail as Elliott spoils E...   \n",
              "1                             Has Cubie killed fees?   \n",
              "2                                England on the rack   \n",
              "\n",
              "                                              Top7  \\\n",
              "0                 Hungry Spurs sense rich pickings   \n",
              "1                           Has Cubie killed fees?   \n",
              "2  Pakistan retaliate with call for video of Walsh   \n",
              "\n",
              "                                   Top8  ...  \\\n",
              "0     Gunners so wide of an easy target  ...   \n",
              "1                Has Cubie killed fees?  ...   \n",
              "2  Cullinan continues his Cape monopoly  ...   \n",
              "\n",
              "                                      Top16  \\\n",
              "0  Flintoff injury piles on woe for England   \n",
              "1                      On the critical list   \n",
              "2               South Melbourne (Australia)   \n",
              "\n",
              "                                               Top17  \\\n",
              "0  Hunters threaten Jospin with new battle of the...   \n",
              "1                          The timing of their lives   \n",
              "2                                    Necaxa (Mexico)   \n",
              "\n",
              "                                 Top18  \\\n",
              "0  Kohl's successor drawn into scandal   \n",
              "1                          Dear doctor   \n",
              "2                  Real Madrid (Spain)   \n",
              "\n",
              "                                               Top19  \\\n",
              "0               The difference between men and women   \n",
              "1  Irish court halts IRA man's extradition to Nor...   \n",
              "2                          Raja Casablanca (Morocco)   \n",
              "\n",
              "                                               Top20  \\\n",
              "0                Sara Denver, nurse turned solicitor   \n",
              "1  Burundi peace initiative fades after rebels re...   \n",
              "2                               Corinthians (Brazil)   \n",
              "\n",
              "                                            Top21  \\\n",
              "0  Diana's landmine crusade put Tories in a panic   \n",
              "1            PE points the way forward to the ECB   \n",
              "2                              Tony's pet project   \n",
              "\n",
              "                                               Top22              Top23  \\\n",
              "0  Yeltsin's resignation caught opposition flat-f...   Russian roulette   \n",
              "1  Campaigners keep up pressure on Nazi war crime...     Jane Ratcliffe   \n",
              "2                            Al Nassr (Saudi Arabia)  Ideal Holmes show   \n",
              "\n",
              "                                               Top24  \\\n",
              "0                                           Sold out   \n",
              "1  Yet more things you wouldn't know without the ...   \n",
              "2               Pinochet leaves hospital after tests   \n",
              "\n",
              "                          Top25  \n",
              "0            Recovering a title  \n",
              "1  Millennium bug fails to bite  \n",
              "2                  Useful links  \n",
              "\n",
              "[3 rows x 27 columns]"
            ],
            "text/html": [
              "\n",
              "  <div id=\"df-4d5acf21-0e64-42f9-ab56-f8c97f2098d6\">\n",
              "    <div class=\"colab-df-container\">\n",
              "      <div>\n",
              "<style scoped>\n",
              "    .dataframe tbody tr th:only-of-type {\n",
              "        vertical-align: middle;\n",
              "    }\n",
              "\n",
              "    .dataframe tbody tr th {\n",
              "        vertical-align: top;\n",
              "    }\n",
              "\n",
              "    .dataframe thead th {\n",
              "        text-align: right;\n",
              "    }\n",
              "</style>\n",
              "<table border=\"1\" class=\"dataframe\">\n",
              "  <thead>\n",
              "    <tr style=\"text-align: right;\">\n",
              "      <th></th>\n",
              "      <th>Date</th>\n",
              "      <th>Label</th>\n",
              "      <th>Top1</th>\n",
              "      <th>Top2</th>\n",
              "      <th>Top3</th>\n",
              "      <th>Top4</th>\n",
              "      <th>Top5</th>\n",
              "      <th>Top6</th>\n",
              "      <th>Top7</th>\n",
              "      <th>Top8</th>\n",
              "      <th>...</th>\n",
              "      <th>Top16</th>\n",
              "      <th>Top17</th>\n",
              "      <th>Top18</th>\n",
              "      <th>Top19</th>\n",
              "      <th>Top20</th>\n",
              "      <th>Top21</th>\n",
              "      <th>Top22</th>\n",
              "      <th>Top23</th>\n",
              "      <th>Top24</th>\n",
              "      <th>Top25</th>\n",
              "    </tr>\n",
              "  </thead>\n",
              "  <tbody>\n",
              "    <tr>\n",
              "      <th>0</th>\n",
              "      <td>2000-01-03</td>\n",
              "      <td>0</td>\n",
              "      <td>A 'hindrance to operations': extracts from the...</td>\n",
              "      <td>Scorecard</td>\n",
              "      <td>Hughes' instant hit buoys Blues</td>\n",
              "      <td>Jack gets his skates on at ice-cold Alex</td>\n",
              "      <td>Chaos as Maracana builds up for United</td>\n",
              "      <td>Depleted Leicester prevail as Elliott spoils E...</td>\n",
              "      <td>Hungry Spurs sense rich pickings</td>\n",
              "      <td>Gunners so wide of an easy target</td>\n",
              "      <td>...</td>\n",
              "      <td>Flintoff injury piles on woe for England</td>\n",
              "      <td>Hunters threaten Jospin with new battle of the...</td>\n",
              "      <td>Kohl's successor drawn into scandal</td>\n",
              "      <td>The difference between men and women</td>\n",
              "      <td>Sara Denver, nurse turned solicitor</td>\n",
              "      <td>Diana's landmine crusade put Tories in a panic</td>\n",
              "      <td>Yeltsin's resignation caught opposition flat-f...</td>\n",
              "      <td>Russian roulette</td>\n",
              "      <td>Sold out</td>\n",
              "      <td>Recovering a title</td>\n",
              "    </tr>\n",
              "    <tr>\n",
              "      <th>1</th>\n",
              "      <td>2000-01-04</td>\n",
              "      <td>0</td>\n",
              "      <td>Scorecard</td>\n",
              "      <td>The best lake scene</td>\n",
              "      <td>Leader: German sleaze inquiry</td>\n",
              "      <td>Cheerio, boyo</td>\n",
              "      <td>The main recommendations</td>\n",
              "      <td>Has Cubie killed fees?</td>\n",
              "      <td>Has Cubie killed fees?</td>\n",
              "      <td>Has Cubie killed fees?</td>\n",
              "      <td>...</td>\n",
              "      <td>On the critical list</td>\n",
              "      <td>The timing of their lives</td>\n",
              "      <td>Dear doctor</td>\n",
              "      <td>Irish court halts IRA man's extradition to Nor...</td>\n",
              "      <td>Burundi peace initiative fades after rebels re...</td>\n",
              "      <td>PE points the way forward to the ECB</td>\n",
              "      <td>Campaigners keep up pressure on Nazi war crime...</td>\n",
              "      <td>Jane Ratcliffe</td>\n",
              "      <td>Yet more things you wouldn't know without the ...</td>\n",
              "      <td>Millennium bug fails to bite</td>\n",
              "    </tr>\n",
              "    <tr>\n",
              "      <th>2</th>\n",
              "      <td>2000-01-05</td>\n",
              "      <td>0</td>\n",
              "      <td>Coventry caught on counter by Flo</td>\n",
              "      <td>United's rivals on the road to Rio</td>\n",
              "      <td>Thatcher issues defence before trial by video</td>\n",
              "      <td>Police help Smith lay down the law at Everton</td>\n",
              "      <td>Tale of Trautmann bears two more retellings</td>\n",
              "      <td>England on the rack</td>\n",
              "      <td>Pakistan retaliate with call for video of Walsh</td>\n",
              "      <td>Cullinan continues his Cape monopoly</td>\n",
              "      <td>...</td>\n",
              "      <td>South Melbourne (Australia)</td>\n",
              "      <td>Necaxa (Mexico)</td>\n",
              "      <td>Real Madrid (Spain)</td>\n",
              "      <td>Raja Casablanca (Morocco)</td>\n",
              "      <td>Corinthians (Brazil)</td>\n",
              "      <td>Tony's pet project</td>\n",
              "      <td>Al Nassr (Saudi Arabia)</td>\n",
              "      <td>Ideal Holmes show</td>\n",
              "      <td>Pinochet leaves hospital after tests</td>\n",
              "      <td>Useful links</td>\n",
              "    </tr>\n",
              "  </tbody>\n",
              "</table>\n",
              "<p>3 rows × 27 columns</p>\n",
              "</div>\n",
              "      <button class=\"colab-df-convert\" onclick=\"convertToInteractive('df-4d5acf21-0e64-42f9-ab56-f8c97f2098d6')\"\n",
              "              title=\"Convert this dataframe to an interactive table.\"\n",
              "              style=\"display:none;\">\n",
              "        \n",
              "  <svg xmlns=\"http://www.w3.org/2000/svg\" height=\"24px\"viewBox=\"0 0 24 24\"\n",
              "       width=\"24px\">\n",
              "    <path d=\"M0 0h24v24H0V0z\" fill=\"none\"/>\n",
              "    <path d=\"M18.56 5.44l.94 2.06.94-2.06 2.06-.94-2.06-.94-.94-2.06-.94 2.06-2.06.94zm-11 1L8.5 8.5l.94-2.06 2.06-.94-2.06-.94L8.5 2.5l-.94 2.06-2.06.94zm10 10l.94 2.06.94-2.06 2.06-.94-2.06-.94-.94-2.06-.94 2.06-2.06.94z\"/><path d=\"M17.41 7.96l-1.37-1.37c-.4-.4-.92-.59-1.43-.59-.52 0-1.04.2-1.43.59L10.3 9.45l-7.72 7.72c-.78.78-.78 2.05 0 2.83L4 21.41c.39.39.9.59 1.41.59.51 0 1.02-.2 1.41-.59l7.78-7.78 2.81-2.81c.8-.78.8-2.07 0-2.86zM5.41 20L4 18.59l7.72-7.72 1.47 1.35L5.41 20z\"/>\n",
              "  </svg>\n",
              "      </button>\n",
              "      \n",
              "  <style>\n",
              "    .colab-df-container {\n",
              "      display:flex;\n",
              "      flex-wrap:wrap;\n",
              "      gap: 12px;\n",
              "    }\n",
              "\n",
              "    .colab-df-convert {\n",
              "      background-color: #E8F0FE;\n",
              "      border: none;\n",
              "      border-radius: 50%;\n",
              "      cursor: pointer;\n",
              "      display: none;\n",
              "      fill: #1967D2;\n",
              "      height: 32px;\n",
              "      padding: 0 0 0 0;\n",
              "      width: 32px;\n",
              "    }\n",
              "\n",
              "    .colab-df-convert:hover {\n",
              "      background-color: #E2EBFA;\n",
              "      box-shadow: 0px 1px 2px rgba(60, 64, 67, 0.3), 0px 1px 3px 1px rgba(60, 64, 67, 0.15);\n",
              "      fill: #174EA6;\n",
              "    }\n",
              "\n",
              "    [theme=dark] .colab-df-convert {\n",
              "      background-color: #3B4455;\n",
              "      fill: #D2E3FC;\n",
              "    }\n",
              "\n",
              "    [theme=dark] .colab-df-convert:hover {\n",
              "      background-color: #434B5C;\n",
              "      box-shadow: 0px 1px 3px 1px rgba(0, 0, 0, 0.15);\n",
              "      filter: drop-shadow(0px 1px 2px rgba(0, 0, 0, 0.3));\n",
              "      fill: #FFFFFF;\n",
              "    }\n",
              "  </style>\n",
              "\n",
              "      <script>\n",
              "        const buttonEl =\n",
              "          document.querySelector('#df-4d5acf21-0e64-42f9-ab56-f8c97f2098d6 button.colab-df-convert');\n",
              "        buttonEl.style.display =\n",
              "          google.colab.kernel.accessAllowed ? 'block' : 'none';\n",
              "\n",
              "        async function convertToInteractive(key) {\n",
              "          const element = document.querySelector('#df-4d5acf21-0e64-42f9-ab56-f8c97f2098d6');\n",
              "          const dataTable =\n",
              "            await google.colab.kernel.invokeFunction('convertToInteractive',\n",
              "                                                     [key], {});\n",
              "          if (!dataTable) return;\n",
              "\n",
              "          const docLinkHtml = 'Like what you see? Visit the ' +\n",
              "            '<a target=\"_blank\" href=https://colab.research.google.com/notebooks/data_table.ipynb>data table notebook</a>'\n",
              "            + ' to learn more about interactive tables.';\n",
              "          element.innerHTML = '';\n",
              "          dataTable['output_type'] = 'display_data';\n",
              "          await google.colab.output.renderOutput(dataTable, element);\n",
              "          const docLink = document.createElement('div');\n",
              "          docLink.innerHTML = docLinkHtml;\n",
              "          element.appendChild(docLink);\n",
              "        }\n",
              "      </script>\n",
              "    </div>\n",
              "  </div>\n",
              "  "
            ]
          },
          "metadata": {},
          "execution_count": 64
        }
      ]
    },
    {
      "cell_type": "code",
      "execution_count": 8,
      "metadata": {
        "colab": {
          "base_uri": "https://localhost:8080/"
        },
        "id": "FH2rM0eMFpdD",
        "outputId": "d0f34faa-ac0f-488b-ab76-fcd6e98ef4fc"
      },
      "outputs": [
        {
          "output_type": "execute_result",
          "data": {
            "text/plain": [
              "Index(['Date', 'Label', 'Top1', 'Top2', 'Top3', 'Top4', 'Top5', 'Top6', 'Top7',\n",
              "       'Top8', 'Top9', 'Top10', 'Top11', 'Top12', 'Top13', 'Top14', 'Top15',\n",
              "       'Top16', 'Top17', 'Top18', 'Top19', 'Top20', 'Top21', 'Top22', 'Top23',\n",
              "       'Top24', 'Top25'],\n",
              "      dtype='object')"
            ]
          },
          "metadata": {},
          "execution_count": 8
        }
      ],
      "source": [
        "df.columns"
      ]
    },
    {
      "cell_type": "code",
      "execution_count": 9,
      "metadata": {
        "colab": {
          "base_uri": "https://localhost:8080/"
        },
        "id": "Lo08VgVxF5GS",
        "outputId": "00272bd4-5eb0-4676-8f0a-5a4f228ac71a"
      },
      "outputs": [
        {
          "output_type": "execute_result",
          "data": {
            "text/plain": [
              "(4101, 27)"
            ]
          },
          "metadata": {},
          "execution_count": 9
        }
      ],
      "source": [
        "df.shape"
      ]
    },
    {
      "cell_type": "code",
      "execution_count": 10,
      "metadata": {
        "colab": {
          "base_uri": "https://localhost:8080/",
          "height": 584
        },
        "id": "J7RvKfrTBqo5",
        "outputId": "bbc9273a-e6dd-415a-8ecb-194e54a5021f"
      },
      "outputs": [
        {
          "output_type": "execute_result",
          "data": {
            "text/plain": [
              "         Date  Label                                               Top1  \\\n",
              "0  2000-01-03      0  A 'hindrance to operations': extracts from the...   \n",
              "1  2000-01-04      0                                          Scorecard   \n",
              "2  2000-01-05      0                  Coventry caught on counter by Flo   \n",
              "\n",
              "                                 Top2  \\\n",
              "0                           Scorecard   \n",
              "1                 The best lake scene   \n",
              "2  United's rivals on the road to Rio   \n",
              "\n",
              "                                            Top3  \\\n",
              "0                Hughes' instant hit buoys Blues   \n",
              "1                  Leader: German sleaze inquiry   \n",
              "2  Thatcher issues defence before trial by video   \n",
              "\n",
              "                                            Top4  \\\n",
              "0       Jack gets his skates on at ice-cold Alex   \n",
              "1                                  Cheerio, boyo   \n",
              "2  Police help Smith lay down the law at Everton   \n",
              "\n",
              "                                          Top5  \\\n",
              "0       Chaos as Maracana builds up for United   \n",
              "1                     The main recommendations   \n",
              "2  Tale of Trautmann bears two more retellings   \n",
              "\n",
              "                                                Top6  \\\n",
              "0  Depleted Leicester prevail as Elliott spoils E...   \n",
              "1                             Has Cubie killed fees?   \n",
              "2                                England on the rack   \n",
              "\n",
              "                                              Top7  \\\n",
              "0                 Hungry Spurs sense rich pickings   \n",
              "1                           Has Cubie killed fees?   \n",
              "2  Pakistan retaliate with call for video of Walsh   \n",
              "\n",
              "                                   Top8  ...  \\\n",
              "0     Gunners so wide of an easy target  ...   \n",
              "1                Has Cubie killed fees?  ...   \n",
              "2  Cullinan continues his Cape monopoly  ...   \n",
              "\n",
              "                                      Top16  \\\n",
              "0  Flintoff injury piles on woe for England   \n",
              "1                      On the critical list   \n",
              "2               South Melbourne (Australia)   \n",
              "\n",
              "                                               Top17  \\\n",
              "0  Hunters threaten Jospin with new battle of the...   \n",
              "1                          The timing of their lives   \n",
              "2                                    Necaxa (Mexico)   \n",
              "\n",
              "                                 Top18  \\\n",
              "0  Kohl's successor drawn into scandal   \n",
              "1                          Dear doctor   \n",
              "2                  Real Madrid (Spain)   \n",
              "\n",
              "                                               Top19  \\\n",
              "0               The difference between men and women   \n",
              "1  Irish court halts IRA man's extradition to Nor...   \n",
              "2                          Raja Casablanca (Morocco)   \n",
              "\n",
              "                                               Top20  \\\n",
              "0                Sara Denver, nurse turned solicitor   \n",
              "1  Burundi peace initiative fades after rebels re...   \n",
              "2                               Corinthians (Brazil)   \n",
              "\n",
              "                                            Top21  \\\n",
              "0  Diana's landmine crusade put Tories in a panic   \n",
              "1            PE points the way forward to the ECB   \n",
              "2                              Tony's pet project   \n",
              "\n",
              "                                               Top22              Top23  \\\n",
              "0  Yeltsin's resignation caught opposition flat-f...   Russian roulette   \n",
              "1  Campaigners keep up pressure on Nazi war crime...     Jane Ratcliffe   \n",
              "2                            Al Nassr (Saudi Arabia)  Ideal Holmes show   \n",
              "\n",
              "                                               Top24  \\\n",
              "0                                           Sold out   \n",
              "1  Yet more things you wouldn't know without the ...   \n",
              "2               Pinochet leaves hospital after tests   \n",
              "\n",
              "                          Top25  \n",
              "0            Recovering a title  \n",
              "1  Millennium bug fails to bite  \n",
              "2                  Useful links  \n",
              "\n",
              "[3 rows x 27 columns]"
            ],
            "text/html": [
              "\n",
              "  <div id=\"df-7fa55104-cd4b-4e3b-ba54-8de052c1385d\">\n",
              "    <div class=\"colab-df-container\">\n",
              "      <div>\n",
              "<style scoped>\n",
              "    .dataframe tbody tr th:only-of-type {\n",
              "        vertical-align: middle;\n",
              "    }\n",
              "\n",
              "    .dataframe tbody tr th {\n",
              "        vertical-align: top;\n",
              "    }\n",
              "\n",
              "    .dataframe thead th {\n",
              "        text-align: right;\n",
              "    }\n",
              "</style>\n",
              "<table border=\"1\" class=\"dataframe\">\n",
              "  <thead>\n",
              "    <tr style=\"text-align: right;\">\n",
              "      <th></th>\n",
              "      <th>Date</th>\n",
              "      <th>Label</th>\n",
              "      <th>Top1</th>\n",
              "      <th>Top2</th>\n",
              "      <th>Top3</th>\n",
              "      <th>Top4</th>\n",
              "      <th>Top5</th>\n",
              "      <th>Top6</th>\n",
              "      <th>Top7</th>\n",
              "      <th>Top8</th>\n",
              "      <th>...</th>\n",
              "      <th>Top16</th>\n",
              "      <th>Top17</th>\n",
              "      <th>Top18</th>\n",
              "      <th>Top19</th>\n",
              "      <th>Top20</th>\n",
              "      <th>Top21</th>\n",
              "      <th>Top22</th>\n",
              "      <th>Top23</th>\n",
              "      <th>Top24</th>\n",
              "      <th>Top25</th>\n",
              "    </tr>\n",
              "  </thead>\n",
              "  <tbody>\n",
              "    <tr>\n",
              "      <th>0</th>\n",
              "      <td>2000-01-03</td>\n",
              "      <td>0</td>\n",
              "      <td>A 'hindrance to operations': extracts from the...</td>\n",
              "      <td>Scorecard</td>\n",
              "      <td>Hughes' instant hit buoys Blues</td>\n",
              "      <td>Jack gets his skates on at ice-cold Alex</td>\n",
              "      <td>Chaos as Maracana builds up for United</td>\n",
              "      <td>Depleted Leicester prevail as Elliott spoils E...</td>\n",
              "      <td>Hungry Spurs sense rich pickings</td>\n",
              "      <td>Gunners so wide of an easy target</td>\n",
              "      <td>...</td>\n",
              "      <td>Flintoff injury piles on woe for England</td>\n",
              "      <td>Hunters threaten Jospin with new battle of the...</td>\n",
              "      <td>Kohl's successor drawn into scandal</td>\n",
              "      <td>The difference between men and women</td>\n",
              "      <td>Sara Denver, nurse turned solicitor</td>\n",
              "      <td>Diana's landmine crusade put Tories in a panic</td>\n",
              "      <td>Yeltsin's resignation caught opposition flat-f...</td>\n",
              "      <td>Russian roulette</td>\n",
              "      <td>Sold out</td>\n",
              "      <td>Recovering a title</td>\n",
              "    </tr>\n",
              "    <tr>\n",
              "      <th>1</th>\n",
              "      <td>2000-01-04</td>\n",
              "      <td>0</td>\n",
              "      <td>Scorecard</td>\n",
              "      <td>The best lake scene</td>\n",
              "      <td>Leader: German sleaze inquiry</td>\n",
              "      <td>Cheerio, boyo</td>\n",
              "      <td>The main recommendations</td>\n",
              "      <td>Has Cubie killed fees?</td>\n",
              "      <td>Has Cubie killed fees?</td>\n",
              "      <td>Has Cubie killed fees?</td>\n",
              "      <td>...</td>\n",
              "      <td>On the critical list</td>\n",
              "      <td>The timing of their lives</td>\n",
              "      <td>Dear doctor</td>\n",
              "      <td>Irish court halts IRA man's extradition to Nor...</td>\n",
              "      <td>Burundi peace initiative fades after rebels re...</td>\n",
              "      <td>PE points the way forward to the ECB</td>\n",
              "      <td>Campaigners keep up pressure on Nazi war crime...</td>\n",
              "      <td>Jane Ratcliffe</td>\n",
              "      <td>Yet more things you wouldn't know without the ...</td>\n",
              "      <td>Millennium bug fails to bite</td>\n",
              "    </tr>\n",
              "    <tr>\n",
              "      <th>2</th>\n",
              "      <td>2000-01-05</td>\n",
              "      <td>0</td>\n",
              "      <td>Coventry caught on counter by Flo</td>\n",
              "      <td>United's rivals on the road to Rio</td>\n",
              "      <td>Thatcher issues defence before trial by video</td>\n",
              "      <td>Police help Smith lay down the law at Everton</td>\n",
              "      <td>Tale of Trautmann bears two more retellings</td>\n",
              "      <td>England on the rack</td>\n",
              "      <td>Pakistan retaliate with call for video of Walsh</td>\n",
              "      <td>Cullinan continues his Cape monopoly</td>\n",
              "      <td>...</td>\n",
              "      <td>South Melbourne (Australia)</td>\n",
              "      <td>Necaxa (Mexico)</td>\n",
              "      <td>Real Madrid (Spain)</td>\n",
              "      <td>Raja Casablanca (Morocco)</td>\n",
              "      <td>Corinthians (Brazil)</td>\n",
              "      <td>Tony's pet project</td>\n",
              "      <td>Al Nassr (Saudi Arabia)</td>\n",
              "      <td>Ideal Holmes show</td>\n",
              "      <td>Pinochet leaves hospital after tests</td>\n",
              "      <td>Useful links</td>\n",
              "    </tr>\n",
              "  </tbody>\n",
              "</table>\n",
              "<p>3 rows × 27 columns</p>\n",
              "</div>\n",
              "      <button class=\"colab-df-convert\" onclick=\"convertToInteractive('df-7fa55104-cd4b-4e3b-ba54-8de052c1385d')\"\n",
              "              title=\"Convert this dataframe to an interactive table.\"\n",
              "              style=\"display:none;\">\n",
              "        \n",
              "  <svg xmlns=\"http://www.w3.org/2000/svg\" height=\"24px\"viewBox=\"0 0 24 24\"\n",
              "       width=\"24px\">\n",
              "    <path d=\"M0 0h24v24H0V0z\" fill=\"none\"/>\n",
              "    <path d=\"M18.56 5.44l.94 2.06.94-2.06 2.06-.94-2.06-.94-.94-2.06-.94 2.06-2.06.94zm-11 1L8.5 8.5l.94-2.06 2.06-.94-2.06-.94L8.5 2.5l-.94 2.06-2.06.94zm10 10l.94 2.06.94-2.06 2.06-.94-2.06-.94-.94-2.06-.94 2.06-2.06.94z\"/><path d=\"M17.41 7.96l-1.37-1.37c-.4-.4-.92-.59-1.43-.59-.52 0-1.04.2-1.43.59L10.3 9.45l-7.72 7.72c-.78.78-.78 2.05 0 2.83L4 21.41c.39.39.9.59 1.41.59.51 0 1.02-.2 1.41-.59l7.78-7.78 2.81-2.81c.8-.78.8-2.07 0-2.86zM5.41 20L4 18.59l7.72-7.72 1.47 1.35L5.41 20z\"/>\n",
              "  </svg>\n",
              "      </button>\n",
              "      \n",
              "  <style>\n",
              "    .colab-df-container {\n",
              "      display:flex;\n",
              "      flex-wrap:wrap;\n",
              "      gap: 12px;\n",
              "    }\n",
              "\n",
              "    .colab-df-convert {\n",
              "      background-color: #E8F0FE;\n",
              "      border: none;\n",
              "      border-radius: 50%;\n",
              "      cursor: pointer;\n",
              "      display: none;\n",
              "      fill: #1967D2;\n",
              "      height: 32px;\n",
              "      padding: 0 0 0 0;\n",
              "      width: 32px;\n",
              "    }\n",
              "\n",
              "    .colab-df-convert:hover {\n",
              "      background-color: #E2EBFA;\n",
              "      box-shadow: 0px 1px 2px rgba(60, 64, 67, 0.3), 0px 1px 3px 1px rgba(60, 64, 67, 0.15);\n",
              "      fill: #174EA6;\n",
              "    }\n",
              "\n",
              "    [theme=dark] .colab-df-convert {\n",
              "      background-color: #3B4455;\n",
              "      fill: #D2E3FC;\n",
              "    }\n",
              "\n",
              "    [theme=dark] .colab-df-convert:hover {\n",
              "      background-color: #434B5C;\n",
              "      box-shadow: 0px 1px 3px 1px rgba(0, 0, 0, 0.15);\n",
              "      filter: drop-shadow(0px 1px 2px rgba(0, 0, 0, 0.3));\n",
              "      fill: #FFFFFF;\n",
              "    }\n",
              "  </style>\n",
              "\n",
              "      <script>\n",
              "        const buttonEl =\n",
              "          document.querySelector('#df-7fa55104-cd4b-4e3b-ba54-8de052c1385d button.colab-df-convert');\n",
              "        buttonEl.style.display =\n",
              "          google.colab.kernel.accessAllowed ? 'block' : 'none';\n",
              "\n",
              "        async function convertToInteractive(key) {\n",
              "          const element = document.querySelector('#df-7fa55104-cd4b-4e3b-ba54-8de052c1385d');\n",
              "          const dataTable =\n",
              "            await google.colab.kernel.invokeFunction('convertToInteractive',\n",
              "                                                     [key], {});\n",
              "          if (!dataTable) return;\n",
              "\n",
              "          const docLinkHtml = 'Like what you see? Visit the ' +\n",
              "            '<a target=\"_blank\" href=https://colab.research.google.com/notebooks/data_table.ipynb>data table notebook</a>'\n",
              "            + ' to learn more about interactive tables.';\n",
              "          element.innerHTML = '';\n",
              "          dataTable['output_type'] = 'display_data';\n",
              "          await google.colab.output.renderOutput(dataTable, element);\n",
              "          const docLink = document.createElement('div');\n",
              "          docLink.innerHTML = docLinkHtml;\n",
              "          element.appendChild(docLink);\n",
              "        }\n",
              "      </script>\n",
              "    </div>\n",
              "  </div>\n",
              "  "
            ]
          },
          "metadata": {},
          "execution_count": 10
        }
      ],
      "source": [
        "df.head(3)"
      ]
    },
    {
      "cell_type": "markdown",
      "metadata": {
        "id": "gFZh_ONwCsFT"
      },
      "source": [
        "*Note: Here 'Label' is a binary attribute which consists 0 - Stock \n",
        "price goes down or stays the same, 1 - Stock price goes up.*"
      ]
    },
    {
      "cell_type": "code",
      "execution_count": 11,
      "metadata": {
        "id": "0IWzslypBqmW"
      },
      "outputs": [],
      "source": [
        "# Importing essential libraries for visualization\n",
        "import matplotlib.pyplot as plt\n",
        "import seaborn as sns\n",
        "%matplotlib inline"
      ]
    },
    {
      "cell_type": "code",
      "execution_count": 12,
      "metadata": {
        "colab": {
          "base_uri": "https://localhost:8080/",
          "height": 497
        },
        "id": "Dxiv0CcxBqjI",
        "outputId": "3307edd5-4971-4758-ea32-0e881143938a"
      },
      "outputs": [
        {
          "output_type": "display_data",
          "data": {
            "text/plain": [
              "<Figure size 576x576 with 1 Axes>"
            ],
            "image/png": "[encoded data removed]"
          },
          "metadata": {
            "needs_background": "light"
          }
        }
      ],
      "source": [
        "# Visualizing the count of 'Label' column from the dataset\n",
        "plt.figure(figsize=(8,8))\n",
        "sns.countplot(x='Label', data=df)\n",
        "plt.xlabel('Stock Sentiments (0-Down/Same, 1-Up)')\n",
        "plt.ylabel('Count')\n",
        "plt.show()"
      ]
    },
    {
      "cell_type": "markdown",
      "metadata": {
        "id": "NWBuNTqxJuRp"
      },
      "source": [
        "# **Data Cleaning and Preprocessing**"
      ]
    },
    {
      "cell_type": "code",
      "execution_count": 13,
      "metadata": {
        "colab": {
          "base_uri": "https://localhost:8080/"
        },
        "id": "ABgH-wfdO9EN",
        "outputId": "aebfd132-d4c3-4bfe-9371-bd6429297946"
      },
      "outputs": [
        {
          "output_type": "stream",
          "name": "stdout",
          "text": [
            "(4101, 27)\n"
          ]
        }
      ],
      "source": [
        "print(df.shape)"
      ]
    },
    {
      "cell_type": "code",
      "execution_count": 14,
      "metadata": {
        "colab": {
          "base_uri": "https://localhost:8080/"
        },
        "id": "nF_JZIWrO6xO",
        "outputId": "2fcf9d70-4705-490d-b25e-8d7fd2997047"
      },
      "outputs": [
        {
          "output_type": "execute_result",
          "data": {
            "text/plain": [
              "Date     False\n",
              "Label    False\n",
              "Top1     False\n",
              "Top2     False\n",
              "Top3     False\n",
              "Top4     False\n",
              "Top5     False\n",
              "Top6     False\n",
              "Top7     False\n",
              "Top8     False\n",
              "Top9     False\n",
              "Top10    False\n",
              "Top11    False\n",
              "Top12    False\n",
              "Top13    False\n",
              "Top14    False\n",
              "Top15    False\n",
              "Top16    False\n",
              "Top17    False\n",
              "Top18    False\n",
              "Top19    False\n",
              "Top20    False\n",
              "Top21    False\n",
              "Top22    False\n",
              "Top23     True\n",
              "Top24     True\n",
              "Top25     True\n",
              "dtype: bool"
            ]
          },
          "metadata": {},
          "execution_count": 14
        }
      ],
      "source": [
        "# Finding any NaN values\n",
        "df.isna().any()"
      ]
    },
    {
      "cell_type": "code",
      "execution_count": 15,
      "metadata": {
        "colab": {
          "base_uri": "https://localhost:8080/"
        },
        "id": "u6aQAfSPPBpd",
        "outputId": "9b79895b-a832-4b53-8971-06dea5354bfb"
      },
      "outputs": [
        {
          "output_type": "stream",
          "name": "stdout",
          "text": [
            "(4098, 27)\n"
          ]
        }
      ],
      "source": [
        "# Dropping NaN values\n",
        "df.dropna(inplace=True)\n",
        "print(df.shape)"
      ]
    },
    {
      "cell_type": "code",
      "execution_count": 16,
      "metadata": {
        "id": "XbhXg-iHPN-X"
      },
      "outputs": [],
      "source": [
        "df_copy = df.copy()"
      ]
    },
    {
      "cell_type": "code",
      "execution_count": 17,
      "metadata": {
        "id": "d6DnrYCGPLOI"
      },
      "outputs": [],
      "source": [
        "df_copy.reset_index(inplace=True)"
      ]
    },
    {
      "cell_type": "code",
      "execution_count": 18,
      "metadata": {
        "colab": {
          "base_uri": "https://localhost:8080/"
        },
        "id": "MMNzajXxMkdh",
        "outputId": "aebd80b3-d43a-4c66-e0f8-3b5d801f0732"
      },
      "outputs": [
        {
          "output_type": "stream",
          "name": "stdout",
          "text": [
            "Train size: (3972, 28), Test size: (378, 28)\n"
          ]
        }
      ],
      "source": [
        "# Splitting the dataset into train an test set\n",
        "train = df_copy[df_copy['Date'] < '20150101']\n",
        "test = df_copy[df_copy['Date'] > '20141231']\n",
        "print('Train size: {}, Test size: {}'.format(train.shape, test.shape))"
      ]
    },
    {
      "cell_type": "code",
      "execution_count": 19,
      "metadata": {
        "colab": {
          "base_uri": "https://localhost:8080/"
        },
        "id": "bVChdUOOQGd5",
        "outputId": "155df8ba-2f2d-409c-a7c4-b04fb0e06b77"
      },
      "outputs": [
        {
          "output_type": "execute_result",
          "data": {
            "text/plain": [
              "Index(['index', 'Date', 'Label', 'Top1', 'Top2', 'Top3', 'Top4', 'Top5',\n",
              "       'Top6', 'Top7', 'Top8', 'Top9', 'Top10', 'Top11', 'Top12', 'Top13',\n",
              "       'Top14', 'Top15', 'Top16', 'Top17', 'Top18', 'Top19', 'Top20', 'Top21',\n",
              "       'Top22', 'Top23', 'Top24', 'Top25'],\n",
              "      dtype='object')"
            ]
          },
          "metadata": {},
          "execution_count": 19
        }
      ],
      "source": [
        "train.columns"
      ]
    },
    {
      "cell_type": "code",
      "execution_count": 20,
      "metadata": {
        "id": "37hwWUT8OoDI"
      },
      "outputs": [],
      "source": [
        "# Splitting the dataset\n",
        "y_train = train['Label']\n",
        "train = train.iloc[:, 3:28]\n",
        "y_test = test['Label']\n",
        "test = test.iloc[:, 3:28]"
      ]
    },
    {
      "cell_type": "code",
      "execution_count": 21,
      "metadata": {
        "colab": {
          "base_uri": "https://localhost:8080/"
        },
        "id": "i8Vsv35IQby-",
        "outputId": "dd6a95d8-95b7-4b60-f923-4450900141dd"
      },
      "outputs": [
        {
          "output_type": "stream",
          "name": "stderr",
          "text": [
            "[nltk_data] Downloading package stopwords to /root/nltk_data...\n",
            "[nltk_data]   Unzipping corpora/stopwords.zip.\n"
          ]
        }
      ],
      "source": [
        "# Importing essential libraries for performing Natural Language Processing on given dataset\n",
        "import nltk\n",
        "nltk.download('stopwords')\n",
        "from nltk.corpus import stopwords\n",
        "from nltk.stem import PorterStemmer"
      ]
    },
    {
      "cell_type": "code",
      "execution_count": 22,
      "metadata": {
        "id": "VD4zrtcRRBXH"
      },
      "outputs": [],
      "source": [
        "# Removing punctuation and special character from the text\n",
        "train.replace(to_replace='[^a-zA-Z]', value=' ', regex=True, inplace=True)\n",
        "test.replace(to_replace='[^a-zA-Z]', value=' ', regex=True, inplace=True)"
      ]
    },
    {
      "cell_type": "code",
      "execution_count": 23,
      "metadata": {
        "id": "CBcNS6YOSHW-"
      },
      "outputs": [],
      "source": [
        "# Renaming columns\n",
        "new_columns = [str(i) for i in range(0,25)]\n",
        "train.columns = new_columns\n",
        "test.columns = new_columns"
      ]
    },
    {
      "cell_type": "code",
      "execution_count": 24,
      "metadata": {
        "id": "s_Rv1U-5TQdm"
      },
      "outputs": [],
      "source": [
        "# Converting the entire text to lower case\n",
        "for i in new_columns:\n",
        "  train[i] = train[i].str.lower()\n",
        "  test[i] = test[i].str.lower()"
      ]
    },
    {
      "cell_type": "code",
      "execution_count": 25,
      "metadata": {
        "id": "Zb6t4r20UGOP"
      },
      "outputs": [],
      "source": [
        "# Joining all the columns\n",
        "train_headlines = []\n",
        "test_headlines = []\n",
        "\n",
        "for row in range(0, train.shape[0]):\n",
        "  train_headlines.append(' '.join(str(x) for x in train.iloc[row, 0:25]))\n",
        "\n",
        "for row in range(0, test.shape[0]):\n",
        "  test_headlines.append(' '.join(str(x) for x in test.iloc[row, 0:25]))"
      ]
    },
    {
      "cell_type": "code",
      "execution_count": 26,
      "metadata": {
        "colab": {
          "base_uri": "https://localhost:8080/",
          "height": 105
        },
        "id": "A-mlVdUdVUHu",
        "outputId": "ae7ffa3c-53c6-46fe-f12c-44b9546c3be2"
      },
      "outputs": [
        {
          "output_type": "execute_result",
          "data": {
            "text/plain": [
              "'a  hindrance to operations   extracts from the leaked reports scorecard hughes  instant hit buoys blues jack gets his skates on at ice cold alex chaos as maracana builds up for united depleted leicester prevail as elliott spoils everton s party hungry spurs sense rich pickings gunners so wide of an easy target derby raise a glass to strupar s debut double southgate strikes  leeds pay the penalty hammers hand robson a youthful lesson saints party like it s      wear wolves have turned into lambs stump mike catches testy gough s taunt langer escapes to hit     flintoff injury piles on woe for england hunters threaten jospin with new battle of the somme kohl s successor drawn into scandal the difference between men and women sara denver  nurse turned solicitor diana s landmine crusade put tories in a panic yeltsin s resignation caught opposition flat footed russian roulette sold out recovering a title'"
            ],
            "application/vnd.google.colaboratory.intrinsic+json": {
              "type": "string"
            }
          },
          "metadata": {},
          "execution_count": 26
        }
      ],
      "source": [
        "train_headlines[0]"
      ]
    },
    {
      "cell_type": "code",
      "execution_count": 27,
      "metadata": {
        "id": "Wp4tgCR1V-Bo"
      },
      "outputs": [],
      "source": [
        "# Creating corpus of train dataset\n",
        "ps = PorterStemmer()\n",
        "train_corpus = []\n",
        "\n",
        "for i in range(0, len(train_headlines)):\n",
        "  \n",
        "  # Tokenizing the news-title by words\n",
        "  words = train_headlines[i].split()\n",
        "\n",
        "  # Removing the stopwords\n",
        "  words = [word for word in words if word not in set(stopwords.words('english'))]\n",
        "\n",
        "  # Stemming the words\n",
        "  words = [ps.stem(word) for word in words]\n",
        "\n",
        "  # Joining the stemmed words\n",
        "  headline = ' '.join(words)\n",
        "\n",
        "  # Building a corpus of news-title\n",
        "  train_corpus.append(headline)"
      ]
    },
    {
      "cell_type": "code",
      "execution_count": 28,
      "metadata": {
        "id": "mS94s0zsYhkv"
      },
      "outputs": [],
      "source": [
        "# Creating corpus of test dataset\n",
        "test_corpus = []\n",
        "\n",
        "for i in range(0, len(test_headlines)):\n",
        "  \n",
        "  # Tokenizing the news-title by words\n",
        "  words = test_headlines[i].split()\n",
        "\n",
        "  # Removing the stopwords\n",
        "  words = [word for word in words if word not in set(stopwords.words('english'))]\n",
        "\n",
        "  # Stemming the words\n",
        "  words = [ps.stem(word) for word in words]\n",
        "\n",
        "  # Joining the stemmed words\n",
        "  headline = ' '.join(words)\n",
        "\n",
        "  # Building a corpus of news-title\n",
        "  test_corpus.append(headline)"
      ]
    },
    {
      "cell_type": "code",
      "execution_count": 29,
      "metadata": {
        "id": "V-yWTBMHZLF3",
        "colab": {
          "base_uri": "https://localhost:8080/"
        },
        "outputId": "41c78d07-cd24-49ca-b70e-9b3c0cb0ccf1"
      },
      "outputs": [
        {
          "output_type": "execute_result",
          "data": {
            "text/plain": [
              "['hindranc oper extract leak report scorecard hugh instant hit buoy blue jack get skate ice cold alex chao maracana build unit deplet leicest prevail elliott spoil everton parti hungri spur sens rich pick gunner wide easi target derbi rais glass strupar debut doubl southgat strike leed pay penalti hammer hand robson youth lesson saint parti like wear wolv turn lamb stump mike catch testi gough taunt langer escap hit flintoff injuri pile woe england hunter threaten jospin new battl somm kohl successor drawn scandal differ men women sara denver nurs turn solicitor diana landmin crusad put tori panic yeltsin resign caught opposit flat foot russian roulett sold recov titl',\n",
              " 'scorecard best lake scene leader german sleaz inquiri cheerio boyo main recommend cubi kill fee cubi kill fee cubi kill fee hopkin furiou foster lack hannib appetit cubi kill fee tale two tail say like like say elbow eye nippl task forc assess risk asteroid collis found last critic list time live dear doctor irish court halt ira man extradit northern ireland burundi peac initi fade rebel reject mandela mediat pe point way forward ecb campaign keep pressur nazi war crime suspect jane ratcliff yet thing know without movi millennium bug fail bite',\n",
              " 'coventri caught counter flo unit rival road rio thatcher issu defenc trial video polic help smith lay law everton tale trautmann bear two retel england rack pakistan retali call video walsh cullinan continu cape monopoli mcgrath put india miseri blair witch bandwagon roll pele turn heat ferguson parti divid kohl slush fund scandal manchest unit england women record south pole walk vasco da gama brazil south melbourn australia necaxa mexico real madrid spain raja casablanca morocco corinthian brazil toni pet project al nassr saudi arabia ideal holm show pinochet leav hospit test use link',\n",
              " 'pilgrim know progress thatcher face ban mcilroy call irish fight spirit leicest bin stadium blueprint unit brace mexican wave aunti back fashion even dress look bit tatti shoaib appeal goe top hussain hurt shambl lay blame earlier damag england decad disast reveng sweet jubil cronj choic profil former us nazi parti offic william pierc new evid show record war crime suspect investig rise supernerd written bodi putin admit yeltsin quit give head start bbc worst hit digit tv begin bite much pay christma glitch upend tabl chop line score goal scientif evid unreli defenc claim fusco win judici review extradit case rebel thwart russian advanc blair order shake fail nh lesson law hard heart',\n",
              " 'hitch horlock beckham unit surviv breast cancer screen alan parker guardian reader whinger hollywood beyond ash diamond whinger formid minor alan parker part two thuggeri toxin tie met face fresh attack race crime everton fan top racist leagu shame breast russia new boss extrem strang histori alway forev everywher udi want chloe lunett return cane complet agenda sleepi hollow greeneland blunkett outlin vision embattl dobson attack play pay later livingston doom dome north south divid aitken releas jail gone aloft',\n",
              " 'fifth round draw bbc unveil secret weapon rate war south melbourn second divis round european round third divis round welfar could claim killi tie caley thistl land celtic ferguson put brave face rio meltdown southgat strike form pre empt penalti second bite wolv scallywag chelsea look bench england miss trick centurion radio time england bat collaps faith futur youth helm goe unit stave inevit time warner aol merg keep wage global war desktop icon qwerti keyboard sec file low workplac bulli met equip solv murder tranmer tie replay rebel attack take toll russia met lent stop car lawrenc',\n",
              " 'man utd south melbourn north atlant drift could carri away old firm buoyant bbc show brazil final live tranmer given clear cup unit sit poorli doc queen park peril cloud hampden futur waugh hit shoaib repriev knight make case butcher place scoreboard bond enough star brosnan help peopl blake blast liverpool german parti leader took cash arm dealer children book week low go like write split vote may offer natwest takeov escap teach stayer sprinter lesson respect everyon know good school wrong give teacher applaus realis felt sick shock tender stung russian forc inspector warn pressur might lead offic take easi solv case repair jack hous',\n",
              " 'newcastl seek new footbal supremo liverpool aim speed heskey deal highland vote edward power play suffer new blow chelsea gambl weah taylor settl etern tie tenth top flight club fall hodg final word charlton charg top german parti chief resist call resign beach made man leo pariah irv sue holocaust author jack straw full common speech batti busi book frock conscious matter heroin wear arm pakistan like mind co black megabuck luck cabinet battl rage ethic foreign polici radio station becom talk sport better breed dad childish thing kid say hopscotch smoke without fire press reaction spain chile argentina',\n",
              " 'bungl offici carpet red raw corner killer mackenzi unit put shirt england plan home nation reviv donald pois quit test scene adam stare abyss money money money tyson enter britain ga chamber claim imposs say irv union take mayor vote row court win ticket end affair irv deni deliber portray hitler merci gallant fulham flunk shoot hill start leav tranmer one step wembley weah strike right cue dinner plate microwav oven toast one simultan free yet live fear doubt pakistan arm export anoth fine mess cybershop sportswear much pay hillari hold late show bye bye american pi tension mount straw stand trial plan harrod lose princ philip royal warrant',\n",
              " 'pompey plump puli work ethic roma fire rolex refere prenton park two told take break ok figur rio still chelsea tune weah world top storey await cottag west indi unveil fieri next gener donald kill field await edgi england cronj low run end captainci high counti lose murali shoaib final tell tale two citi tv rival jostl soccer club stake blatter unit gave boost world cup bid sunderland recoveri bad news booki england main fault tri hard schreiber man would toppl king joe ashton letter resign ashton resign wednesday board stravinski rake progress best waterfront scene incompet insult injuri find time england take six rain shorten first day media sale net chri evan divvi scissor dawn']"
            ]
          },
          "metadata": {},
          "execution_count": 29
        }
      ],
      "source": [
        "train_corpus[0:10]"
      ]
    },
    {
      "cell_type": "code",
      "execution_count": 30,
      "metadata": {
        "id": "TAuiyeUjZhZ8",
        "colab": {
          "base_uri": "https://localhost:8080/"
        },
        "outputId": "86b495b4-9165-45ea-ae1c-01133fa0bced"
      },
      "outputs": [
        {
          "output_type": "execute_result",
          "data": {
            "text/plain": [
              "['case cancer result sheer bad luck rather unhealthi lifestyl diet even inherit gene new research suggest random mutat occur dna cell divid respons two third adult cancer across wide rang tissu iran dismiss unit state effort fight islam state ploy advanc u polici region realiti unit state act elimin daesh even interest weaken daesh interest manag poll one german would join anti muslim march uk royal famili princ andrew name us lawsuit underag sex alleg asylum seeker refus leav bu arriv destin rural northern sweden demand taken back malm big citi pakistani boat blow self india navi chase four peopl board vessel near pakistani port citi karachi believ kill dramat episod arabian sea new year eve accord india defenc ministri sweden hit third mosqu arson attack week car set alight french new year salari top ceo rose twice fast averag canadian sinc recess studi norway violat equal pay law judg say judg find consul employe unjustli paid less male counterpart imam want radic recruit muslim youth canada identifi dealt saudi arabia behead peopl year live hell slave remot south korean island slaveri thrive chain rural island south korea rug southwest coast nurtur long histori exploit demand tri squeez live sea world richest get richer ad bn rental car stereo infring copyright music right group say ukrainian minist threaten tv channel closur air russian entertain palestinian presid mahmoud abba enter seriou confront yet israel sign onto intern crimin court decis wednesday give court jurisdict crime commit palestinian land isra secur center publish name kill terrorist conceal hama year deadliest year yet syria four year conflict kill secret underground complex built nazi may use develop wmd includ nuclear bomb uncov austria restrict web freedom major global issu austrian journalist erich mchel deliv present hamburg annual meet chao comput club monday decemb detail variou locat us nsa activ collect process electron intellig vienna thousand ukrain nationalist march kiev china new year resolut harvest execut prison organ author pull plug russia last polit independ tv station',\n",
              " 'moscow gt beij high speed train reduc trip time hour current day two ancient tomb discov egypt sunday one repres symbol burial site god osiri anoth claim previous unknown pharaon tomb china complain pyongyang n korean soldier kill villag world news scotland head toward fossil fuel free renew energi project combin energi save could decarbonis countri power sector need see phase convent gener scotland prime minist shinzo abe said monday express remors japan action world war ii highlight countri bid contribut activ world peac statement mark th anniversari war end august sex slave centr princ andrew scandal fled australia teen gay rel hama founder face deport canada christian convert whose five uncl jail israel terror activ say hell kill forc return west bank number femal drug addict iran almost doubl sinc start age decad search causeway great pyramid egypt found india lost tiger lizard squad hack soni huge market scheme launch lizard stresser paid hack servic russia may face chao extra sanction impos germani saudi air land forc carri attack isi within territori isil reportedli set bank attempt legitimatis nation state israel brand anti assimil group lehava terrorist islam state approv budget billion expect surplu million open islam bank mosul budget reportedli includ monthli wage poor disabl famili individu kill airstrik carri us led coalit forc iceland withdraw eu applic lift capit control blackfield capit founder goe miss valu rubl thing vanish russia moscow hedg fund chief execut disappear along money firm account rocket stage crash back earth rural chines villag dead aircraft bomb greek tanker libyan port belgian murder frank van den bleeken die request belgian murder rapist serv life sentenc allow die lethal inject next sunday follow rule law belgium permit peopl request euthanasia czech presid critic ukrainian pm say yatsenyuk prime minist war vietnames jet join search miss filipino bahamian cargo ship sink franc seek end russia sanction ukrain china scrap rare earth cap',\n",
              " 'us oil fall barrel toyota give away fuel cell patent build game chang car futur young indian coupl grant polic protect rel approv hack death offic refus carri judg order senior figur islam state self declar polic forc syria carri behead found decapit eastern provinc deir al zor fukushima rice pass radiat test st time sinc disast nearli spanish parti guilti financi crime audit court find king abdullah abdic saudi throne taliban command caught network linkedin mexican miss student mayor wife charg organ crime money launder new york time report jame risen refus monday answer basic question court book detail fail cia effort undermin iran nuclear weapon program case becom flashpoint press freedom korea send sweet potato n korea nutrit aid turkey dutch journalist frederik geerdink detain terror propaganda charg kuala lumpur jan islam prohibit marri men homemak famili govern malaysian institut islam understand ikim said iraqi mp iran top gener qassem suleimani save baghdad fall pakistan offer bounti taliban leader thousand indian fled home fight india pakistan spread along km mile stretch border disput region kashmir turkey sack judg oversaw erdogan corrupt probe accus abus author spacex falcon launch recoveri abort next launch window could earli friday cnn american charg botch gambia coup islam state polic offici behead libya ban palestinian countri prevent entri terrorist judici inquiri open franc monday inmat one countri notori prison abl take photo pose drug money contraband upload onto facebook video captur moment cameraman hurl backward film explod firework factori small town colombia syria complain unit nation u republican senat john mccain former french foreign minist bernard kouchner former u diplomat peter galbraith enter countri without visa violat sovereignti test india set make iri biggest telescop ever',\n",
              " 'shot fire french magazin hq bibi netanyahu campaign fund u isi behead street magician entertain crowd syria trick denmark set new world record renew energi product cover countri total electr consumpt wind power isi close school syria leav children without educ un european union want turkey explain human traffick could taken two cargo ship fill migrant countri toward eu without author notic peopl die shoot headquart french satir weekli charli hebdo earth like planet ever discov could cosi home alien life planet name kepler b slightli larger earth circl orang dwarf star bath heat home planet receiv sun new question rais u saudi relationship page u legisl push know alleg saudi role massiv hunt underway gunmen pari terror attack offici hottest year record hottest year record come chines author isol separ famili shanghai stamped victim keep organ allow minut mourn site drag away get emot german anti muslim protest ralli despit merkel plea china encourag environment group sue pollut group work fight pollut judici gain special statu court fee reduc suprem peopl court say unit nation secretari gener ban ki moon say palestin join intern crimin court april st discoveri witnesss mutil bodi feed claim state kill kenya gruesom murder man due testifi icc trial kenya deputi presid william ruto fed accus govern orchestr kill wit radic islam grow threat sub saharan christian report toni blair may face war crime charg iraq delay public chilcot inquiri iraq war made peopl believ toni blair could face war crime charg minist warn benjamin netanyahu say settlement unlik dismantl elect israel pm tasmania move allow corpor sue protest defam indonesia search chief tail section airasia flight qz found flight record insid tail section north korean defector bureau hacker locat shenyang china femal suicid bomber attack polic station istanbul turn syria school religi indoctrin center children depriv educ islam state order school close school reopen curriculum islamic religion replac standard subject ebola vaccin trial halifax far success',\n",
              " 'new charli hebdo issu come next week hard suffer grief fear anyway stupid win ahm merabet cop kill pari attack muslim youngest suspect charli hebdo attack turn grenad thrown mosqu le man west pari danish newspap print charli hebdo cartoon islam muslim politician india offer charli hebdo attack vladimir putin condemn deadli terrorist attack pari confirm moscow readi continu cooper franc battl terror putin also express condol victim famili wish injur speedi recoveri turkey tri hide evid hold turkish leader respons support terrorist group especi islam state iraq syria isi turkish media report danish paper publish muhammad cartoon boost secur two charli hebdo attack locat north franc french imam urg muslim protest pari attack policewoman shot gunman near pari die polic shoot heard outskirt pari offic sever injur nobodi report kill fight syria wednesday first day without casualti three year fierc winter storm quell violenc time crack islamophobia turkey erdogan tell eu thousand europ hold pen solidar terrorist attack journalist race show solidar charli hebdo terror attack antibiot us discoveri label game changer world medicin charli hebdo attack condemn saudi arabia iran arab leagu mani muslim state well union islam organ franc brisban man wear stupid shirt stand lnp elect campaign arrest offic public nuisanc fourth russian gener commit suicid less year bear startl similar least three recent case retir russian gener commit suicid last year meteorit turn night day bucharest romania isra doctor implant syrian man titanium jaw pioneer procedur unusu metal recov ancient greek shipwreck ingot found yr old wreck metal call orichalcum legendari metal philosoph plato attribut atlanti noth similar ever found knew orichalcum ancient text amp ornament object young mother let terrorist charli hebdo build threat daughter',\n",
              " 'muslim politician india offer charli hebdo attack book incit violenc russia list transsexu transgend peopl among longer qualifi drive licenc french govern donat million ensur charli hebdo live hezbollah secretari gener sayi hassan nasrallah action takfiri group like al qaeda islam state offend prophet mohammad charli hebdo cartoon mock charli hebdo hunt shot fire polic chase car possibl hostag taken islam state brag pari tomorrow britain america wake charli hebdo attack secularist group seek end canada blasphemi law saudi arabia flog man time insult religion facebook websit town near pari hack replac isi flag indian govern fire employe skip work year egypt presid call revolut islam uk religi divers ever time number peopl religion time high britain mi chief warn al qaeda syria plan mass attack west top iranian cleric condemn pari shoot strongli condemn terrorist attack franc believ islam allow kill innoc peopl pari syria iraq yemen paksitan afghanistan ayatollah seyi ahmad khatami said us send highest level deleg decad havana later month talk migrat normal relat countri decad cold war hostil israel recogn armenian genocid say ambassador bodi litter street boko haram attack baga north korea warn war disast us lift unreason sanction danish newspap say print prophet cartoon boko haram kill destroy villag borno two islamist newspap turkey drawn ire social media headlin justifi deadli attack french satir newspap head mi andrew parker call new power help fight islamist extrem warn danger imbal increas number terrorist plot uk drop capabl intellig servic snoop commun million flee ukrain close humanitarian catastroph german nurs admit kill patient work hospit german citi delmenhorst investig possibl kill anoth china tomb chariot hors skeleton date back year found hubei',\n",
              " 'world largest indoor farm japan time product outdoor field use less water less power creat less food wast egypt student get year jail term atheism egyptian court sentenc student three year jail announc facebook atheist insult islam saudi princ barrel oil never boko haram massacr big survivor give count bodi bomb threat belgian paper reprint charli hebdo cartoon benjamin netanyahu ridicul appear pari attend pari march despit holland object least one major oil compani turn back fossil fuel say scientist oil compani also realis long moral defens ignor consequ climat chang nigeria need support franc boko haram attack archbishop kaigama speak anoth bloodi weekend nigeria three femal suicid bomber includ one thought young ten kill least peopl restiv northeast isi issu mandatori conscript men syria iraq oil hit new five half year low barrel peopl die drink poison beer mozambiqu turkish imam germani stand guard front media build solidar terror cuba freed prison agre u deal unpaid intern charg job refer thinktank anonym block jihadist websit retali charli hebdo attack burqua ban approv lawmak muslim uighur region xinjiang last month set go effect report say ban part effort curb grow extrem femal genit mutil done hospit africa health care provid perform percent fgm case trend grow accord world health organ feel free breastfe pope tell mother sistin chapel march pari yet block freedom speech home london landmark lit colour french flag crowd gather trafalgar squar tribut kill pari terror attack deadli taliban attack kill children peshawar pakistan armi public school reopen boko haram forc year old commit suicid bomb nigerian market franc deploy troop iran eclips us iraq alli fight milit lava flow iceland size manhattan',\n",
              " 'china ban burqa biggest muslim citi us eu politician use charli hebdo attack call internet surveil fusion muslim mayor rotterdam tell islamist f live televis charli hebdo first cover sinc attack nigeria need support franc boko haram attack kill archbishop uk may ban whatsapp snapchat new anti terror law british prime minist fox news secur analyst clearli complet idiot lesbian kick vienna caf kiss student organ start kiss campaign attend civilian dead shell hit bu ukrain cameron say mean commun cannot read russian media turkish politician suggest u isra involv pari attack us central command twitter youtub feed hack isi ultra orthodox jewish newspap edit femal world leader charli hebdo march expens cancer drug push england nh list chang england cancer drug fund mean april new cancer patient longer abl receiv number expens treatment avail nh david cameron want ban end end encrypt surveil plan nick clegg today condemn call reviv call snooper charter follow pari terror attack warn make safer make less free german anti islam march dresden draw record number scientist includ stephen hawk elon musk sign letter pledg ensur artifici intellig research benefit mankind great lake teem tini plastic microfib cbc pope franci blame pari attack deviant form religion amid new worri may isi target peopl starv eastern ukrain humanitarian crisi unfold attack owner pari kosher market plan move israel anti islamist movement surfac switzerland interpol issu global want notic former ukrain presid viktor yanukovich number al qaeda want list sell french fri florida mall food court',\n",
              " 'cameroon armi kill boko haram fighter air franc hand copi charli hebdo flight turkish presid accus west behind charli hebdo attack deliber blame muslim french comedian dieudonn arrest apologist terror facebook post turkey main opposit parti chp call islam countri adopt secular order end root terror denounc last week deadli pari attack stress kill innoc peopl noth islam ride coattail accus intern commun ignor african woe come afrileak whistleblow websit dedic expos corrupt abus power across africa internet instrument mass net neutral key indian telecom minist marxist dalai lama say twitter facebook face closur turkey anonym account publish document reveal illeg arm shipment turkish spi agenc opposit group syria russia cut world return past would monstrou mistak prime minist dmitri medvedev said wednesday januari new isi video appear show child execut russian agent turkish polic raid daili newspap cumhuriyet search destroy possibl moham cartoon north korean walk across frozen river china commit murder charli hebdo print run rais copi franc sell poacher kill forest guard india kaziranga nation park peshmerga kill six islam state leader hour mass anim die off rise kill billion amp rais question huge die off diseas outbreak amp stressor happen often mass die off individu event kill least billion anim wipe popul destroy ton worth anim charli hebdo muhammad cover goe global despit muslim ire egypt islam author denounc charli hebdo cover action unjustifi provoc feel billion muslim mosqu fire bomb pelt pig head aftermath pari terror attack oil price per barrel cost russian budget billion doubl agent reportedli stole list contain real undercov name german intellig employe spi arrest last juli suspicion work cia stolen document could jeopard half agent bnd russian troop station near finnish border putin begin move arctic kim jong un snub china accept putin invit moscow belgian arm dealer confess suppli pari attack fossil found p e boy fill gap reptil evolut',\n",
              " 'saudi man sentenc year jail weekli public cane month guilti set public onlin forum debat discuss children cage keep street clean pope polic round orphan chain filth pontiff visit philippin pari shoot sign petit muslim hero hid hostag get french citizenship prestigi legion honneur indonesia revok passport citizen join isi malian describ hero help hostag jewish supermarket hide last week pari attack award french nation tuesday interior minist bernard cazeneuv said swiss franc jump euro snb swiss nation bank scrap exchang rate limit franc send aircraft carrier battl saudi arabia build mile great wall shield isi data privaci human right say eu electron commun secur europ less accord report european union agenc network inform secur enisa baghdadi execut isil member defeat southern erbil kurd gay italian cook forc go prostitut prove heterosexu lose job charli hebdo writer hold muham cover sky news network cut away apolog hama new charli hedbo cover zionist lobbi plot indian rule parti support decrimin homosexu jesuischarli creator phrase cannot trademark million declar je sui charli social media peopl tri trademark imag franc alon creator campaign angri solar grid pariti world collaps oil price littl slow solar juggernaut intern space station crew evacu russian segment amid ammonia leak fear pari motorist deliber run policewoman outsid presidenti resid muslim philippin march charli hebdo charli hebdo sell alreadi ebay k target canada close store file creditor protect nasrallah hezbollah prepar war deep israel beyond galile carlo slim mexican billionair becom top new york time sharehold ottawa mosqu concern sharp rise young men convert islam nigeria satellit imag show horrif scale boko haram attack baga']"
            ]
          },
          "metadata": {},
          "execution_count": 30
        }
      ],
      "source": [
        "test_corpus[0:10]"
      ]
    },
    {
      "cell_type": "code",
      "execution_count": 31,
      "metadata": {
        "id": "tUitCSbEZzS3"
      },
      "outputs": [],
      "source": [
        "# Creating the Bag of Words model\n",
        "from sklearn.feature_extraction.text import CountVectorizer\n",
        "cv = CountVectorizer(max_features=10000, ngram_range=(2,2))\n",
        "X_train = cv.fit_transform(train_corpus).toarray()"
      ]
    },
    {
      "cell_type": "code",
      "execution_count": 32,
      "metadata": {
        "id": "Jcv69nnllDYH"
      },
      "outputs": [],
      "source": [
        "X_test = cv.transform(test_corpus).toarray()"
      ]
    },
    {
      "cell_type": "markdown",
      "metadata": {
        "id": "p3s5bBHAfmpe"
      },
      "source": [
        "# **Model Building**"
      ]
    },
    {
      "cell_type": "markdown",
      "metadata": {
        "id": "tzTm9A6zfpgs"
      },
      "source": [
        "## *Logistic Regression*"
      ]
    },
    {
      "cell_type": "code",
      "execution_count": 33,
      "metadata": {
        "colab": {
          "base_uri": "https://localhost:8080/"
        },
        "id": "bz-1XUZYf-1H",
        "outputId": "0c53f843-f82e-43fc-c7c3-0bbb4f5eaae7"
      },
      "outputs": [
        {
          "output_type": "execute_result",
          "data": {
            "text/plain": [
              "LogisticRegression()"
            ]
          },
          "metadata": {},
          "execution_count": 33
        }
      ],
      "source": [
        "from sklearn.linear_model import LogisticRegression\n",
        "lr_classifier = LogisticRegression()\n",
        "lr_classifier.fit(X_train, y_train)"
      ]
    },
    {
      "cell_type": "code",
      "execution_count": 34,
      "metadata": {
        "id": "VZEDC_xEgPBP"
      },
      "outputs": [],
      "source": [
        "lr_y_pred = lr_classifier.predict(X_test)"
      ]
    },
    {
      "cell_type": "code",
      "execution_count": 35,
      "metadata": {
        "colab": {
          "base_uri": "https://localhost:8080/"
        },
        "id": "z7rIrq2xgPmD",
        "outputId": "65cff5cc-0d7d-4480-f6b0-63fc3911ff34"
      },
      "outputs": [
        {
          "output_type": "stream",
          "name": "stdout",
          "text": [
            "---- Scores ----\n",
            "Accuracy score is: 85.98%\n",
            "Precision score is: 0.87\n",
            "Recall score is: 0.85\n"
          ]
        }
      ],
      "source": [
        "# Accuracy, Precision and Recall\n",
        "from sklearn.metrics import accuracy_score, precision_score, recall_score\n",
        "score1 = accuracy_score(y_test, lr_y_pred)\n",
        "score2 = precision_score(y_test, lr_y_pred)\n",
        "score3 = recall_score(y_test, lr_y_pred)\n",
        "print(\"---- Scores ----\")\n",
        "print(\"Accuracy score is: {}%\".format(round(score1*100,2)))\n",
        "print(\"Precision score is: {}\".format(round(score2,2)))\n",
        "print(\"Recall score is: {}\".format(round(score3,2)))"
      ]
    },
    {
      "cell_type": "code",
      "execution_count": 36,
      "metadata": {
        "id": "l8r6DUJsgPhv"
      },
      "outputs": [],
      "source": [
        "# Making the Confusion Matrix\n",
        "from sklearn.metrics import confusion_matrix\n",
        "lr_cm = confusion_matrix(y_test, lr_y_pred)"
      ]
    },
    {
      "cell_type": "code",
      "execution_count": 37,
      "metadata": {
        "colab": {
          "base_uri": "https://localhost:8080/"
        },
        "id": "s8zW0elGgwka",
        "outputId": "f0b3fc26-98e5-4f84-de95-ac7b61c08a39"
      },
      "outputs": [
        {
          "output_type": "execute_result",
          "data": {
            "text/plain": [
              "array([[162,  24],\n",
              "       [ 29, 163]])"
            ]
          },
          "metadata": {},
          "execution_count": 37
        }
      ],
      "source": [
        "lr_cm"
      ]
    },
    {
      "cell_type": "code",
      "execution_count": 38,
      "metadata": {
        "colab": {
          "base_uri": "https://localhost:8080/",
          "height": 458
        },
        "id": "WMghDU4rgwh_",
        "outputId": "a21f9f84-9426-4c79-89d6-1fbe1ff953a3"
      },
      "outputs": [
        {
          "output_type": "display_data",
          "data": {
            "text/plain": [
              "<Figure size 720x504 with 2 Axes>"
            ],
            "image/png": "[encoded data removed]"
          },
          "metadata": {
            "needs_background": "light"
          }
        }
      ],
      "source": [
        "# Plotting the confusion matrix\n",
        "plt.figure(figsize=(10,7))\n",
        "sns.heatmap(data=lr_cm, annot=True, cmap=\"Blues\", xticklabels=['Down', 'Up'], yticklabels=['Down', 'Up'])\n",
        "plt.xlabel('Predicted values')\n",
        "plt.ylabel('Actual values')\n",
        "plt.title('Confusion Matrix for Logistic Regression Algorithm')\n",
        "plt.show()"
      ]
    },
    {
      "cell_type": "markdown",
      "source": [
        "# ***Random forest classifier***"
      ],
      "metadata": {
        "id": "zcQlH3SIxdAk"
      }
    },
    {
      "cell_type": "code",
      "source": [
        "from sklearn.ensemble import RandomForestClassifier\n",
        "rf_classifier = RandomForestClassifier(n_estimators=100, criterion='entropy')\n",
        "rf_classifier.fit(X_train, y_train)"
      ],
      "metadata": {
        "id": "ycE3mKUdxrO4",
        "colab": {
          "base_uri": "https://localhost:8080/"
        },
        "outputId": "5d8065e2-028c-425c-f181-b651da1545e3"
      },
      "execution_count": 39,
      "outputs": [
        {
          "output_type": "execute_result",
          "data": {
            "text/plain": [
              "RandomForestClassifier(criterion='entropy')"
            ]
          },
          "metadata": {},
          "execution_count": 39
        }
      ]
    },
    {
      "cell_type": "code",
      "source": [
        "rf_y_pred = rf_classifier.predict(X_test)"
      ],
      "metadata": {
        "id": "8Glf0nRDxrQ-"
      },
      "execution_count": 40,
      "outputs": []
    },
    {
      "cell_type": "code",
      "source": [
        "# Accuracy, Precision and Recall\n",
        "score1 = accuracy_score(y_test, rf_y_pred)\n",
        "score2 = precision_score(y_test, rf_y_pred)\n",
        "score3 = recall_score(y_test, rf_y_pred)\n",
        "print(\"---- Scores ----\")\n",
        "print(\"Accuracy score is: {}%\".format(round(score1*100,2)))\n",
        "print(\"Precision score is: {}\".format(round(score2,2)))\n",
        "print(\"Recall score is: {}\".format(round(score3,2)))"
      ],
      "metadata": {
        "id": "CGfqODqVxrTt",
        "colab": {
          "base_uri": "https://localhost:8080/"
        },
        "outputId": "c63725fb-741f-4d9c-e2f1-64b877eb4c2d"
      },
      "execution_count": 41,
      "outputs": [
        {
          "output_type": "stream",
          "name": "stdout",
          "text": [
            "---- Scores ----\n",
            "Accuracy score is: 85.71%\n",
            "Precision score is: 0.84\n",
            "Recall score is: 0.89\n"
          ]
        }
      ]
    },
    {
      "cell_type": "code",
      "source": [
        "# Making the Confusion Matrix\n",
        "rf_cm = confusion_matrix(y_test, rf_y_pred)"
      ],
      "metadata": {
        "id": "lhMFZ58ayWXZ"
      },
      "execution_count": 42,
      "outputs": []
    },
    {
      "cell_type": "code",
      "source": [
        "rf_cm"
      ],
      "metadata": {
        "colab": {
          "base_uri": "https://localhost:8080/"
        },
        "id": "HEi4E9_PyWg_",
        "outputId": "7964dd3f-6f36-4f44-eb29-9fd543ee99ca"
      },
      "execution_count": 43,
      "outputs": [
        {
          "output_type": "execute_result",
          "data": {
            "text/plain": [
              "array([[154,  32],\n",
              "       [ 22, 170]])"
            ]
          },
          "metadata": {},
          "execution_count": 43
        }
      ]
    },
    {
      "cell_type": "code",
      "source": [
        "# Plotting the confusion matrix\n",
        "plt.figure(figsize=(10,7))\n",
        "sns.heatmap(data=rf_cm, annot=True, cmap=\"Blues\", xticklabels=['Down', 'Up'], yticklabels=['Down', 'Up'])\n",
        "plt.xlabel('Predicted values')\n",
        "plt.ylabel('Actual values')\n",
        "plt.title('Confusion Matrix for Random Forest Algorithm')\n",
        "plt.show()"
      ],
      "metadata": {
        "colab": {
          "base_uri": "https://localhost:8080/",
          "height": 458
        },
        "id": "m4iDQSBCye6R",
        "outputId": "b68aa9d8-7eb5-40aa-a9f0-98cd57c94ee1"
      },
      "execution_count": 44,
      "outputs": [
        {
          "output_type": "display_data",
          "data": {
            "text/plain": [
              "<Figure size 720x504 with 2 Axes>"
            ],
            "image/png": "[encoded data removed]"
          },
          "metadata": {
            "needs_background": "light"
          }
        }
      ]
    },
    {
      "cell_type": "markdown",
      "metadata": {
        "id": "dnqOScUHf6Dg"
      },
      "source": [
        "## *Multinomial Naive Bayes*"
      ]
    },
    {
      "cell_type": "code",
      "execution_count": 45,
      "metadata": {
        "colab": {
          "base_uri": "https://localhost:8080/"
        },
        "id": "tVRPeDb6fmN-",
        "outputId": "7c6a30a2-0ddb-455f-b070-a44fc9d35c78"
      },
      "outputs": [
        {
          "output_type": "execute_result",
          "data": {
            "text/plain": [
              "MultinomialNB()"
            ]
          },
          "metadata": {},
          "execution_count": 45
        }
      ],
      "source": [
        "from sklearn.naive_bayes import MultinomialNB\n",
        "nb_classifier = MultinomialNB()\n",
        "nb_classifier.fit(X_train, y_train)"
      ]
    },
    {
      "cell_type": "code",
      "execution_count": 46,
      "metadata": {
        "id": "mWjgDBq8fdOb"
      },
      "outputs": [],
      "source": [
        "# Predicting the Test set results\n",
        "nb_y_pred = nb_classifier.predict(X_test)"
      ]
    },
    {
      "cell_type": "code",
      "execution_count": 47,
      "metadata": {
        "colab": {
          "base_uri": "https://localhost:8080/"
        },
        "id": "FDbl0TWXh-i8",
        "outputId": "1bc51f5f-9581-4e4a-96a6-1feedc986691"
      },
      "outputs": [
        {
          "output_type": "stream",
          "name": "stdout",
          "text": [
            "---- Scores ----\n",
            "Accuracy score is: 83.86%\n",
            "Precision score is: 0.85\n",
            "Recall score is: 0.83\n"
          ]
        }
      ],
      "source": [
        "# Accuracy, Precision and Recall\n",
        "score1 = accuracy_score(y_test, nb_y_pred)\n",
        "score2 = precision_score(y_test, nb_y_pred)\n",
        "score3 = recall_score(y_test, nb_y_pred)\n",
        "print(\"---- Scores ----\")\n",
        "print(\"Accuracy score is: {}%\".format(round(score1*100,2)))\n",
        "print(\"Precision score is: {}\".format(round(score2,2)))\n",
        "print(\"Recall score is: {}\".format(round(score3,2)))"
      ]
    },
    {
      "cell_type": "code",
      "execution_count": 48,
      "metadata": {
        "id": "JnopGQlyy-UR"
      },
      "outputs": [],
      "source": [
        "# Making the Confusion Matrix\n",
        "nb_cm = confusion_matrix(y_test, nb_y_pred)"
      ]
    },
    {
      "cell_type": "code",
      "execution_count": 49,
      "metadata": {
        "colab": {
          "base_uri": "https://localhost:8080/"
        },
        "id": "MGOugTYqzAZf",
        "outputId": "89820999-374d-4e82-f081-ce62a22051db"
      },
      "outputs": [
        {
          "output_type": "execute_result",
          "data": {
            "text/plain": [
              "array([[158,  28],\n",
              "       [ 33, 159]])"
            ]
          },
          "metadata": {},
          "execution_count": 49
        }
      ],
      "source": [
        "nb_cm"
      ]
    },
    {
      "cell_type": "code",
      "execution_count": 50,
      "metadata": {
        "colab": {
          "base_uri": "https://localhost:8080/",
          "height": 458
        },
        "id": "UY-PVvYUzBXX",
        "outputId": "b3f6c014-e0fc-42cd-8c95-cc1ea87b583e"
      },
      "outputs": [
        {
          "output_type": "display_data",
          "data": {
            "text/plain": [
              "<Figure size 720x504 with 2 Axes>"
            ],
            "image/png": "[encoded data removed]"
          },
          "metadata": {
            "needs_background": "light"
          }
        }
      ],
      "source": [
        "# Plotting the confusion matrix\n",
        "plt.figure(figsize=(10,7))\n",
        "sns.heatmap(data=nb_cm, annot=True, cmap=\"Blues\", xticklabels=['Down', 'Up'], yticklabels=['Down', 'Up'])\n",
        "plt.xlabel('Predicted values')\n",
        "plt.ylabel('Actual values')\n",
        "plt.title('Confusion Matrix for Multinomial Naive Bayes Algorithm')\n",
        "plt.show()"
      ]
    },
    {
      "cell_type": "markdown",
      "metadata": {
        "id": "p7wwir-60mqo"
      },
      "source": [
        "# **Predictions**"
      ]
    },
    {
      "cell_type": "code",
      "execution_count": 51,
      "metadata": {
        "id": "X1CHiUyg0pSA"
      },
      "outputs": [],
      "source": [
        "import re\n",
        "\n",
        "def stock_prediction(sample_news):\n",
        "  sample_news = re.sub(pattern='[^a-zA-Z]',repl=' ', string=sample_news)\n",
        "  sample_news = sample_news.lower()\n",
        "  sample_news_words = sample_news.split()\n",
        "  sample_news_words = [word for word in sample_news_words if not word in set(stopwords.words('english'))]\n",
        "  ps = PorterStemmer()\n",
        "  final_news = [ps.stem(word) for word in sample_news_words]\n",
        "  final_news = ' '.join(final_news)\n",
        "\n",
        "  temp = cv.transform([final_news]).toarray()\n",
        "  return lr_classifier.predict(temp)"
      ]
    },
    {
      "cell_type": "code",
      "execution_count": 52,
      "metadata": {
        "id": "1jZdYuQx1Nlv"
      },
      "outputs": [],
      "source": [
        "# For generating random integer\n",
        "from random import randint"
      ]
    },
    {
      "cell_type": "code",
      "execution_count": 53,
      "metadata": {
        "id": "AuuxZK222fII"
      },
      "outputs": [],
      "source": [
        "sample_test = df_copy[df_copy['Date'] > '20141231']"
      ]
    },
    {
      "cell_type": "code",
      "execution_count": 54,
      "metadata": {
        "id": "m0jRGmhG2lgm"
      },
      "outputs": [],
      "source": [
        "sample_test.reset_index(inplace=True)\n",
        "sample_test = sample_test['Top1']"
      ]
    },
    {
      "cell_type": "code",
      "source": [
        "# Predicting values\n",
        "row = randint(0,sample_test.shape[0]-1)\n",
        "sample_news = sample_test[row]\n",
        "\n",
        "print('News: {}'.format(sample_news))\n",
        "if stock_prediction(sample_news):\n",
        "  print('Prediction: The stock price will remain the same or will go down.')\n",
        "else:\n",
        "  print('Prediction: The stock price will go up!')"
      ],
      "metadata": {
        "colab": {
          "base_uri": "https://localhost:8080/"
        },
        "id": "k4QOcftQlX4Z",
        "outputId": "bae0e745-1e09-4461-8cd8-7a4853f5a1c1"
      },
      "execution_count": 58,
      "outputs": [
        {
          "output_type": "stream",
          "name": "stdout",
          "text": [
            "News: The Netherlands to decriminalize insulting heads of state\n",
            "Prediction: The stock price will remain the same or will go down.\n"
          ]
        }
      ]
    },
    {
      "cell_type": "code",
      "source": [
        "# Predicting values\n",
        "row = randint(0,sample_test.shape[0]-1)\n",
        "sample_news = sample_test[row]\n",
        "\n",
        "print('News: {}'.format(sample_news))\n",
        "if stock_prediction(sample_news):\n",
        "  print('Prediction: The stock price will remain the same or will go down.')\n",
        "else:\n",
        "  print('Prediction: The stock price will go up!')"
      ],
      "metadata": {
        "colab": {
          "base_uri": "https://localhost:8080/"
        },
        "id": "BJ8okyYnDGuX",
        "outputId": "f90127d8-f27b-486c-881b-2402d473247f"
      },
      "execution_count": 71,
      "outputs": [
        {
          "output_type": "stream",
          "name": "stdout",
          "text": [
            "News: Everest College, a U.S.-owned chain of 14 private career schools, shut down in Ontario, Canada by provincial government after allegations of falsified job placement and grade data\n",
            "Prediction: The stock price will remain the same or will go down.\n"
          ]
        }
      ]
    },
    {
      "cell_type": "code",
      "source": [
        "# Predicting values\n",
        "row = randint(0,sample_test.shape[0]-1)\n",
        "sample_news = sample_test[row]\n",
        "\n",
        "print('News: {}'.format(sample_news))\n",
        "if stock_prediction(sample_news):\n",
        "  print('Prediction: The stock price will remain the same or will go down.')\n",
        "else:\n",
        "  print('Prediction: The stock price will go up!')"
      ],
      "metadata": {
        "colab": {
          "base_uri": "https://localhost:8080/"
        },
        "id": "vhuwdoi3DGx2",
        "outputId": "1de801df-7b9a-4996-db65-2ddac49c1e56"
      },
      "execution_count": 72,
      "outputs": [
        {
          "output_type": "stream",
          "name": "stdout",
          "text": [
            "News: Moscow-&gt;Beijing high speed train will reduce trip time to 48 hours, from the current 7 days\n",
            "Prediction: The stock price will go up!\n"
          ]
        }
      ]
    }
  ],
  "metadata": {
    "colab": {
      "collapsed_sections": [],
      "name": "Stock Sentiment Analysis final.ipynb",
      "provenance": []
    },
    "kernelspec": {
      "display_name": "Python 3",
      "language": "python",
      "name": "python3"
    },
    "language_info": {
      "codemirror_mode": {
        "name": "ipython",
        "version": 3
      },
      "file_extension": ".py",
      "mimetype": "text/x-python",
      "name": "python",
      "nbconvert_exporter": "python",
      "pygments_lexer": "ipython3",
      "version": "3.7.4"
    }
  },
  "nbformat": 4,
  "nbformat_minor": 0
}